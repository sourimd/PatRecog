{
 "metadata": {
  "name": "",
  "signature": "sha256:479aeeba798f82dbf9a40ea1d56261413d7e4eb26c115ed2c4ebbf47aaad69ae"
 },
 "nbformat": 3,
 "nbformat_minor": 0,
 "worksheets": [
  {
   "cells": [
    {
     "cell_type": "code",
     "collapsed": false,
     "input": [
      "import numpy as np\n",
      "import neurolab as nl"
     ],
     "language": "python",
     "metadata": {},
     "outputs": [],
     "prompt_number": 1
    },
    {
     "cell_type": "code",
     "collapsed": false,
     "input": [
      "H = np.loadtxt('/home/user/PRTakeHome1/train_sp2015_v14')"
     ],
     "language": "python",
     "metadata": {},
     "outputs": [],
     "prompt_number": 2
    },
    {
     "cell_type": "code",
     "collapsed": false,
     "input": [
      "print H.shape\n",
      "c1data = H[0:5000, 0:4]\n",
      "print c1data.shape\n",
      "c3data = H[10000:15000, 0:4]\n",
      "print c3data.shape\n",
      "\n",
      "targetData = np.concatenate((c1data, c3data), axis=0)\n",
      "#print targetData[0]\n",
      "targetData.shape\n",
      "\n",
      "target = []\n",
      "for i in range(5000):\n",
      "    target.append(1)\n",
      "for i in range(5000):\n",
      "    target.append(-1)\n",
      "    \n",
      "tar = np.array( target )\n",
      "#np.reshape( tar, (10000, 1))\n",
      "print tar.shape\n",
      "bal = np.asmatrix(tar)\n",
      "print bal.T"
     ],
     "language": "python",
     "metadata": {},
     "outputs": [
      {
       "output_type": "stream",
       "stream": "stdout",
       "text": [
        "(15000, 4)\n",
        "(5000, 4)\n",
        "(5000, 4)\n",
        "(10000,)\n",
        "[[ 1]\n",
        " [ 1]\n",
        " [ 1]\n",
        " ..., \n",
        " [-1]\n",
        " [-1]\n",
        " [-1]]"
       ]
      },
      {
       "output_type": "stream",
       "stream": "stdout",
       "text": [
        "\n"
       ]
      }
     ],
     "prompt_number": 3
    },
    {
     "cell_type": "code",
     "collapsed": false,
     "input": [
      "_1min, _2min, _3min, _4min = targetData.min(axis=0)\n",
      "_1max, _2max, _3max, _4max = targetData.max(axis=0)"
     ],
     "language": "python",
     "metadata": {},
     "outputs": [],
     "prompt_number": 4
    },
    {
     "cell_type": "code",
     "collapsed": false,
     "input": [
      "net = nl.net.newff( [ [_1min, _1max], [_2min, _2max], [_3min, _3max], [_4min, _4max] ] , [4, 1])\n",
      "err = net.train( targetData, bal.T, epochs = 100, show = 10, goal =0.2)"
     ],
     "language": "python",
     "metadata": {},
     "outputs": [
      {
       "output_type": "stream",
       "stream": "stdout",
       "text": [
        "Epoch: 10; Error: 4562.02334287;\n",
        "Epoch: 20; Error: 4230.43834719;"
       ]
      },
      {
       "output_type": "stream",
       "stream": "stdout",
       "text": [
        "\n",
        "Epoch: 30; Error: 3983.5936054;"
       ]
      },
      {
       "output_type": "stream",
       "stream": "stdout",
       "text": [
        "\n",
        "Epoch: 40; Error: 3906.31809298;"
       ]
      },
      {
       "output_type": "stream",
       "stream": "stdout",
       "text": [
        "\n",
        "Epoch: 50; Error: 3883.40082379;"
       ]
      },
      {
       "output_type": "stream",
       "stream": "stdout",
       "text": [
        "\n",
        "Epoch: 60; Error: 3530.95988855;"
       ]
      },
      {
       "output_type": "stream",
       "stream": "stdout",
       "text": [
        "\n",
        "Epoch: 70; Error: 3329.62045873;"
       ]
      },
      {
       "output_type": "stream",
       "stream": "stdout",
       "text": [
        "\n",
        "Epoch: 80; Error: 3235.9510332;"
       ]
      },
      {
       "output_type": "stream",
       "stream": "stdout",
       "text": [
        "\n",
        "Epoch: 90; Error: 3179.31792926;"
       ]
      },
      {
       "output_type": "stream",
       "stream": "stdout",
       "text": [
        "\n",
        "Epoch: 100; Error: 3176.12688471;"
       ]
      },
      {
       "output_type": "stream",
       "stream": "stdout",
       "text": [
        "\n",
        "The maximum number of train epochs is reached\n"
       ]
      }
     ],
     "prompt_number": 113
    },
    {
     "cell_type": "code",
     "collapsed": false,
     "input": [
      "net = nl.net.newff( [ [_1min, _1max], [_2min, _2max], [_3min, _3max], [_4min, _4max] ] , [4, 1])\n",
      "err = net.train( targetData, bal.T, epochs = 500, show = 50, goal =0.2)"
     ],
     "language": "python",
     "metadata": {},
     "outputs": [
      {
       "output_type": "stream",
       "stream": "stdout",
       "text": [
        "Epoch: 50; Error: 3189.05695977;\n",
        "Epoch: 100; Error: 2758.22712404;"
       ]
      },
      {
       "output_type": "stream",
       "stream": "stdout",
       "text": [
        "\n",
        "Epoch: 150; Error: 2679.601522;"
       ]
      },
      {
       "output_type": "stream",
       "stream": "stdout",
       "text": [
        "\n",
        "Epoch: 200; Error: 2679.15812137;"
       ]
      },
      {
       "output_type": "stream",
       "stream": "stdout",
       "text": [
        "\n",
        "Epoch: 250; Error: 2678.75904883;"
       ]
      },
      {
       "output_type": "stream",
       "stream": "stdout",
       "text": [
        "\n",
        "Epoch: 300; Error: 2678.6015602;"
       ]
      },
      {
       "output_type": "stream",
       "stream": "stdout",
       "text": [
        "\n",
        "Epoch: 350; Error: 2678.5883803;"
       ]
      },
      {
       "output_type": "stream",
       "stream": "stdout",
       "text": [
        "\n",
        "Epoch: 400; Error: 2678.45949616;"
       ]
      },
      {
       "output_type": "stream",
       "stream": "stdout",
       "text": [
        "\n",
        "Epoch: 450; Error: 2678.35835083;"
       ]
      },
      {
       "output_type": "stream",
       "stream": "stdout",
       "text": [
        "\n",
        "Epoch: 500; Error: 2678.35360598;"
       ]
      },
      {
       "output_type": "stream",
       "stream": "stdout",
       "text": [
        "\n",
        "The maximum number of train epochs is reached\n"
       ]
      }
     ],
     "prompt_number": 5
    },
    {
     "cell_type": "code",
     "collapsed": false,
     "input": [
      "netx = nl.net.newff( [ [_1min, _1max], [_2min, _2max], [_3min, _3max], [_4min, _4max] ] , [9, 1])\n",
      "errx = netx.train( targetData, bal.T, epochs = 150, show = 30, goal =0.2)"
     ],
     "language": "python",
     "metadata": {},
     "outputs": [
      {
       "output_type": "stream",
       "stream": "stdout",
       "text": [
        "Epoch: 30; Error: 3467.68071587;\n",
        "Epoch: 60; Error: 3258.01183267;"
       ]
      },
      {
       "output_type": "stream",
       "stream": "stdout",
       "text": [
        "\n",
        "Epoch: 90; Error: 2976.39163167;"
       ]
      },
      {
       "output_type": "stream",
       "stream": "stdout",
       "text": [
        "\n",
        "Epoch: 120; Error: 2953.1619438;"
       ]
      },
      {
       "output_type": "stream",
       "stream": "stdout",
       "text": [
        "\n",
        "Epoch: 150; Error: 2949.71154553;"
       ]
      },
      {
       "output_type": "stream",
       "stream": "stdout",
       "text": [
        "\n",
        "The maximum number of train epochs is reached\n"
       ]
      }
     ],
     "prompt_number": 5
    },
    {
     "cell_type": "code",
     "collapsed": false,
     "input": [
      "#print err\n",
      "newErrList = [x/100 for x in err]\n",
      "#print newErrList"
     ],
     "language": "python",
     "metadata": {},
     "outputs": [],
     "prompt_number": 10
    },
    {
     "cell_type": "code",
     "collapsed": false,
     "input": [
      "for i in range(9):\n",
      "    print netx.layers[0].np['w'][i]\n",
      "print netx.layers[1].np['w'][0]"
     ],
     "language": "python",
     "metadata": {},
     "outputs": [
      {
       "output_type": "stream",
       "stream": "stdout",
       "text": [
        "[ 1.66753733  8.02837013 -1.21193995  3.16894126]\n",
        "[  1.66172278 -15.36159276 -19.46759257  -0.28540657]\n",
        "[ -8.09896074e-05  -5.34060052e-04   4.80301629e-03   2.65224465e-05]\n",
        "[-0.79191669 -2.10568957 -3.06144882  6.62438086]\n",
        "[ 0.7848287  -1.95979801 -1.50777661  6.48192134]\n",
        "[ 1.66391124 -9.29904858  4.75129982  4.5124326 ]\n",
        "[-12.97454285  28.40920937  -0.3446582   -8.90738587]\n",
        "[-11.94801362  23.3160322   -0.65584983  -6.58895638]\n",
        "[ -1.51350779e-05   2.46443215e-04   3.73020160e-03  -1.51654116e-05]\n",
        "[  1.87350927e-02  -4.65526089e-02  -2.93987849e+01  -5.12716639e-02\n",
        "   5.84374074e-02   5.17948311e-02  -2.27952496e-01   2.88257100e-01\n",
        "   2.57263759e+01]\n"
       ]
      }
     ],
     "prompt_number": 8
    },
    {
     "cell_type": "code",
     "collapsed": false,
     "input": [
      "import pylab as pl\n",
      "pl.plot(newErrList)\n",
      "pl.xlabel('Number of iterations')\n",
      "pl.ylabel('Error Rate in %')\n",
      "pl.show()"
     ],
     "language": "python",
     "metadata": {},
     "outputs": [],
     "prompt_number": 12
    },
    {
     "cell_type": "code",
     "collapsed": false,
     "input": [
      "# test\n",
      "w = np.zeros( shape = (2,2))\n",
      "for i in range(0, 10000):\n",
      "    a = net.sim([ targetData[i]])[0][0]\n",
      "    if a > 0:\n",
      "        w[0][(i//5000)] = w[0][(i//5000)] + 1 \n",
      "    else:\n",
      "        w[1][(i//5000)] = w[1][(i//5000)] + 1\n",
      "print w.T"
     ],
     "language": "python",
     "metadata": {},
     "outputs": [
      {
       "output_type": "stream",
       "stream": "stdout",
       "text": [
        "[[ 4263.   737.]\n",
        " [ 1226.  3774.]]\n"
       ]
      }
     ],
     "prompt_number": 9
    },
    {
     "cell_type": "code",
     "collapsed": false,
     "input": [
      "w = np.zeros( shape = (2,2))\n",
      "for i in range(0, 10000):\n",
      "    a = netx.sim([ targetData[i]])[0][0]\n",
      "    if a > 0:\n",
      "        w[0][(i//5000)] = w[0][(i//5000)] + 1 \n",
      "    else:\n",
      "        w[1][(i//5000)] = w[1][(i//5000)] + 1\n",
      "print w.T"
     ],
     "language": "python",
     "metadata": {},
     "outputs": [
      {
       "output_type": "stream",
       "stream": "stdout",
       "text": [
        "[[ 4240.   760.]\n",
        " [ 1190.  3810.]]\n"
       ]
      }
     ],
     "prompt_number": 9
    },
    {
     "cell_type": "code",
     "collapsed": false,
     "input": [
      "print targetData.shape"
     ],
     "language": "python",
     "metadata": {},
     "outputs": [
      {
       "output_type": "stream",
       "stream": "stdout",
       "text": [
        "(10000, 4)\n"
       ]
      }
     ],
     "prompt_number": 119
    },
    {
     "cell_type": "code",
     "collapsed": false,
     "input": [
      "import numpy as np\n",
      "St= np.loadtxt('/home/user/PRTakeHome1/test_sp2015_v14')\n",
      "arr = [2,3,1,3,1,2]\n",
      "cof_mat = np.zeros((3,3))\n",
      "for i in range(15000):\n",
      "    if ( arr[i%6] == 2):\n",
      "        continue\n",
      "    a = netx.sim([ St[i]])[0][0]\n",
      "    if( a > 0):\n",
      "        cof_mat[ arr[i%6] - 1][0] = cof_mat[ arr[i%6] - 1][0] + 1\n",
      "    else:\n",
      "        cof_mat[ arr[i%6] - 1][1] = cof_mat[ arr[i%6] - 1][1] + 1\n",
      "print cof_mat"
     ],
     "language": "python",
     "metadata": {},
     "outputs": [
      {
       "output_type": "stream",
       "stream": "stdout",
       "text": [
        "[[ 4225.   775.     0.]\n",
        " [    0.     0.     0.]\n",
        " [ 1260.  3740.     0.]]\n"
       ]
      }
     ],
     "prompt_number": 7
    },
    {
     "cell_type": "code",
     "collapsed": false,
     "input": [],
     "language": "python",
     "metadata": {},
     "outputs": []
    }
   ],
   "metadata": {}
  }
 ]
}