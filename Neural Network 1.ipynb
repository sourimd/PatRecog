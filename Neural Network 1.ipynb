{
 "metadata": {
  "name": "",
  "signature": "sha256:4763fe77d777afb11b88a30668fa70b82517d7045ed674e356f3f70a6e9976e0"
 },
 "nbformat": 3,
 "nbformat_minor": 0,
 "worksheets": [
  {
   "cells": [
    {
     "cell_type": "code",
     "collapsed": false,
     "input": [
      "import numpy as np\n",
      "import neurolab as nl\n",
      "\n",
      "H = np.loadtxt('/home/user/PRTakeHome1/train_sp2015_v14')\n",
      "\n",
      "print H.shape\n",
      "c1data = H[0:5000, 0:4]\n",
      "print c1data.shape\n",
      "c3data = H[10000:15000, 0:4]\n",
      "print c3data.shape\n",
      "\n",
      "targetData = np.concatenate((c1data, c3data), axis=0)\n",
      "#print targetData[0]\n",
      "targetData.shape\n",
      "\n",
      "target = []\n",
      "for i in range(5000):\n",
      "    target.append(1)\n",
      "for i in range(5000):\n",
      "    target.append(-1)\n",
      "    \n",
      "tar = np.array( target )\n",
      "#np.reshape( tar, (10000, 1))\n",
      "print tar.shape\n",
      "bal = np.asmatrix(tar)\n",
      "print bal.T"
     ],
     "language": "python",
     "metadata": {},
     "outputs": [
      {
       "output_type": "stream",
       "stream": "stdout",
       "text": [
        "(15000, 4)\n",
        "(5000, 4)\n",
        "(5000, 4)\n",
        "(10000,)\n",
        "[[ 1]\n",
        " [ 1]\n",
        " [ 1]\n",
        " ..., \n",
        " [-1]\n",
        " [-1]\n",
        " [-1]]"
       ]
      },
      {
       "output_type": "stream",
       "stream": "stdout",
       "text": [
        "\n"
       ]
      }
     ],
     "prompt_number": 23
    },
    {
     "cell_type": "code",
     "collapsed": false,
     "input": [
      "_1min, _2min, _3min, _4min = targetData.min(axis=0)\n",
      "_1max, _2max, _3max, _4max = targetData.max(axis=0)"
     ],
     "language": "python",
     "metadata": {},
     "outputs": [],
     "prompt_number": 24
    },
    {
     "cell_type": "code",
     "collapsed": false,
     "input": [
      "net = nl.net.newff( [ [_1min, _1max], [_2min, _2max], [_3min, _3max], [_4min, _4max] ] , [4, 1] )\n",
      "#net.trainf = nl.net.train.train_gda\n",
      "err = net.train( targetData, bal.T, epochs = 100, show = 20, goal =0.2 )\n"
     ],
     "language": "python",
     "metadata": {},
     "outputs": [
      {
       "output_type": "stream",
       "stream": "stdout",
       "text": [
        "Epoch: 20; Error: 3314.12772161;\n",
        "Epoch: 40; Error: 2797.32925654;"
       ]
      },
      {
       "output_type": "stream",
       "stream": "stdout",
       "text": [
        "\n",
        "Epoch: 60; Error: 2690.07793057;"
       ]
      },
      {
       "output_type": "stream",
       "stream": "stdout",
       "text": [
        "\n",
        "Epoch: 80; Error: 2680.55762507;"
       ]
      },
      {
       "output_type": "stream",
       "stream": "stdout",
       "text": [
        "\n",
        "Epoch: 100; Error: 2679.06551489;"
       ]
      },
      {
       "output_type": "stream",
       "stream": "stdout",
       "text": [
        "\n",
        "The maximum number of train epochs is reached\n"
       ]
      }
     ],
     "prompt_number": 28
    },
    {
     "cell_type": "code",
     "collapsed": false,
     "input": [
      "#print err\n",
      "newErrList = [x/1000 for x in err]\n",
      "#print newErrList"
     ],
     "language": "python",
     "metadata": {},
     "outputs": [],
     "prompt_number": 26
    },
    {
     "cell_type": "code",
     "collapsed": false,
     "input": [
      "w = np.zeros( shape = (2,2))\n",
      "for i in range(0, 10000):\n",
      "    a = net.sim([ targetData[i]])[0][0]\n",
      "    if a > 0:\n",
      "        w[0][(i//5000)] = w[0][(i//5000)] + 1 \n",
      "    else:\n",
      "        w[1][(i//5000)] = w[1][(i//5000)] + 1\n",
      "print w.T"
     ],
     "language": "python",
     "metadata": {},
     "outputs": [
      {
       "output_type": "stream",
       "stream": "stdout",
       "text": [
        "[[ 4268.   732.]\n",
        " [ 1239.  3761.]]\n"
       ]
      }
     ],
     "prompt_number": 29
    }
   ],
   "metadata": {}
  }
 ]
}