{
 "metadata": {
  "name": "",
  "signature": "sha256:a939826a8f45436b044483ada119e83a37b82d2941c323c46f8e76a2ce6bd33f"
 },
 "nbformat": 3,
 "nbformat_minor": 0,
 "worksheets": [
  {
   "cells": [
    {
     "cell_type": "code",
     "collapsed": false,
     "input": [
      "import numpy as np\n",
      "from scipy import stats as s\n",
      "from scipy.stats import multivariate_normal as mn\n",
      "from sklearn.preprocessing import StandardScaler\n",
      "from sklearn import svm\n",
      "from sklearn import cluster, datasets\n",
      "\n",
      "H = np.loadtxt('/home/user/PRTakeHome1/train_sp2015_v14')"
     ],
     "language": "python",
     "metadata": {},
     "outputs": [],
     "prompt_number": 1
    },
    {
     "cell_type": "code",
     "collapsed": false,
     "input": [
      "mean_3class_1st = H[2500]\n",
      "mean_3class_2nd = H[7500]\n",
      "mean_3class_3rd = H[12500]"
     ],
     "language": "python",
     "metadata": {},
     "outputs": [],
     "prompt_number": 2
    },
    {
     "cell_type": "code",
     "collapsed": false,
     "input": [
      "original_mean_1 = np.mean( H[0:5000])\n",
      "original_mean_2 = np.mean( H[5000:10000])\n",
      "original_mean_3 = np.mean( H[10000:15000])"
     ],
     "language": "python",
     "metadata": {},
     "outputs": [],
     "prompt_number": 34
    },
    {
     "cell_type": "code",
     "collapsed": false,
     "input": [
      "def find_closest(a, b, c):\n",
      "    if a > b and a > c:\n",
      "        return 1\n",
      "    elif b > a and b > c:\n",
      "        return 2\n",
      "    else:\n",
      "        return 3"
     ],
     "language": "python",
     "metadata": {},
     "outputs": [],
     "prompt_number": 5
    },
    {
     "cell_type": "code",
     "collapsed": false,
     "input": [
      "counter = 0\n",
      "holder = []\n",
      "while(counter < 200):\n",
      "    dist = np.linalg.norm(mean_3class_1st - original_mean_1 ) + np.linalg.norm(mean_3class_2nd - original_mean_2 )+np.linalg.norm(mean_3class_3rd - original_mean_3 )\n",
      "    container_one = []\n",
      "    container_two = []\n",
      "    container_three = []\n",
      "    counter = counter + 1\n",
      "    for i in range(15000):\n",
      "        a = find_closest( np.linalg.norm(mean_3class_1st - H[i]) , np.linalg.norm(mean_3class_2nd - H[i]), np.linalg.norm(mean_3class_3rd - H[i]))\n",
      "        if( a == 1):\n",
      "            container_one.append( np.array(H[i]).tolist() )\n",
      "        elif( a == 2):\n",
      "            container_two.append( np.array(H[i]).tolist() )\n",
      "        else:\n",
      "            container_three.append( np.array(H[i]).tolist() )\n",
      "    mean_3class_1st = np.mean(container_one, axis = 0)\n",
      "    mean_3class_2nd = np.mean(container_two, axis = 0)\n",
      "    mean_3class_3rd = np.mean(container_three, axis = 0)\n",
      "    holder.append(dist)"
     ],
     "language": "python",
     "metadata": {},
     "outputs": [],
     "prompt_number": 46
    },
    {
     "cell_type": "code",
     "collapsed": false,
     "input": [
      "print mean_3class_1st\n",
      "print mean_3class_2nd\n",
      "print mean_3class_3rd"
     ],
     "language": "python",
     "metadata": {},
     "outputs": [
      {
       "output_type": "stream",
       "stream": "stdout",
       "text": [
        "[ -4.10096771  21.63920935 -25.39295767 -60.58487205]\n",
        "[-12.43787539  50.17149192 -25.30232648  70.97372941]\n",
        "[ 102.23938995   46.82402446  -26.72223264    7.7277309 ]\n"
       ]
      }
     ],
     "prompt_number": 47
    },
    {
     "cell_type": "code",
     "collapsed": false,
     "input": [
      "print np.array(container_one).shape\n",
      "print np.array(container_two).shape\n",
      "print np.array(container_three).shape\n",
      "print counter"
     ],
     "language": "python",
     "metadata": {},
     "outputs": [
      {
       "output_type": "stream",
       "stream": "stdout",
       "text": [
        "(9601, 4)\n",
        "(4707, 4)"
       ]
      },
      {
       "output_type": "stream",
       "stream": "stdout",
       "text": [
        "\n",
        "(692, 4)\n",
        "6\n"
       ]
      }
     ],
     "prompt_number": 43
    },
    {
     "cell_type": "code",
     "collapsed": false,
     "input": [
      "print holder"
     ],
     "language": "python",
     "metadata": {},
     "outputs": [
      {
       "output_type": "stream",
       "stream": "stdout",
       "text": [
        "[290.16604216877596, 276.42928413311409, 290.19654315322714, 276.53872100607759, 290.16604216877596, 276.42928413311409]\n"
       ]
      }
     ],
     "prompt_number": 44
    }
   ],
   "metadata": {}
  }
 ]
}