{
 "metadata": {
  "name": "",
  "signature": "sha256:8a57dd642b62a895acfc62fa8a43e0f0047864e8519267cd252ac5c09ef452d8"
 },
 "nbformat": 3,
 "nbformat_minor": 0,
 "worksheets": [
  {
   "cells": [
    {
     "cell_type": "code",
     "collapsed": false,
     "input": [
      "import numpy as np\n",
      "from scipy import stats as s\n",
      "from scipy.stats import multivariate_normal as mn\n",
      "from sklearn.preprocessing import StandardScaler\n",
      "from sklearn import svm\n",
      "from sklearn import cluster, datasets\n",
      "\n",
      "H = np.loadtxt('/home/user/PRTakeHome1/train_sp2015_v14')\n",
      "St= np.loadtxt('/home/user/PRTakeHome1/test_sp2015_v14')"
     ],
     "language": "python",
     "metadata": {},
     "outputs": [],
     "prompt_number": 1
    },
    {
     "cell_type": "code",
     "collapsed": false,
     "input": [
      "k_means_3 = cluster.KMeans(3)\n",
      "k_means_3.fit(H)\n",
      "print k_means_3.cluster_centers_"
     ],
     "language": "python",
     "metadata": {},
     "outputs": [
      {
       "output_type": "stream",
       "stream": "stdout",
       "text": [
        "[[-70.72548809  16.00143305 -27.45824181 -58.57647383]\n",
        " [ 40.38019866  28.26561527 -24.62521793 -52.27950297]\n",
        " [ -0.3482364   51.50287921 -24.7268482   76.55301184]]\n",
        "[2]\n"
       ]
      }
     ],
     "prompt_number": 7
    },
    {
     "cell_type": "code",
     "collapsed": false,
     "input": [
      "ConfMatrix_3 = [[0 for x in range(3)] for x in range(3)]\n",
      "for i in range(5000):\n",
      "    ConfMatrix_3[0][k_means_3.predict(H[i])[0] ] = ConfMatrix_3[0][k_means_3.predict(H[i])[0] ]+1\n",
      "for i in range(5000, 10000):\n",
      "    ConfMatrix_3[1][k_means_3.predict(H[i])[0] ] = ConfMatrix_3[1][k_means_3.predict(H[i])[0] ]+1\n",
      "for i in range(10000,15000):\n",
      "    ConfMatrix_3[2][k_means_3.predict(H[i])[0] ] = ConfMatrix_3[2][k_means_3.predict(H[i])[0] ]+1\n",
      "print ConfMatrix_3"
     ],
     "language": "python",
     "metadata": {},
     "outputs": [
      {
       "output_type": "stream",
       "stream": "stdout",
       "text": [
        "[[1868, 2661, 471], [11, 1361, 3628], [2199, 2494, 307]]\n"
       ]
      }
     ],
     "prompt_number": 19
    },
    {
     "cell_type": "code",
     "collapsed": false,
     "input": [
      "grouping_3 = [0, 0, 0]\n",
      "for i in range(15000):\n",
      "    grouping_3[ k_means_3.predict(H[i])[0] ] = grouping_3[ k_means_3.predict(H[i])[0] ] + 1\n",
      "print grouping_3"
     ],
     "language": "python",
     "metadata": {},
     "outputs": [
      {
       "output_type": "stream",
       "stream": "stdout",
       "text": [
        "[4078, 6516, 4406]\n"
       ]
      }
     ],
     "prompt_number": 21
    },
    {
     "cell_type": "code",
     "collapsed": false,
     "input": [
      "print k_means_3.predict( H[3])[0]\n",
      "print k_means_3.labels_.shape"
     ],
     "language": "python",
     "metadata": {},
     "outputs": [
      {
       "output_type": "stream",
       "stream": "stdout",
       "text": [
        "0\n",
        "(15000,)\n"
       ]
      },
      {
       "metadata": {},
       "output_type": "pyout",
       "prompt_number": 16,
       "text": [
        "'k_means'"
       ]
      }
     ],
     "prompt_number": 16
    },
    {
     "cell_type": "code",
     "collapsed": false,
     "input": [
      "k_means_4 = cluster.KMeans(4)\n",
      "k_means_4.fit(H)\n",
      "print k_means_4.cluster_centers_"
     ],
     "language": "python",
     "metadata": {},
     "outputs": [
      {
       "output_type": "stream",
       "stream": "stdout",
       "text": [
        "[[ 50.50599064 -12.45517988 -26.55975048 -49.02820159]\n",
        " [  9.15619035  79.23216045 -23.00196553 -45.03443127]\n",
        " [ -0.55100145  46.36279    -24.99159065  88.21848002]\n",
        " [-79.33735013   6.92000772 -27.67275869 -58.62591479]]\n"
       ]
      }
     ],
     "prompt_number": 3
    },
    {
     "cell_type": "code",
     "collapsed": false,
     "input": [
      "grouping_4 = [0, 0, 0, 0]\n",
      "for i in range(15000):\n",
      "    grouping_4[ k_means_4.predict(H[i])[0] ] = grouping_4[ k_means_4.predict(H[i])[0] ] + 1\n",
      "print grouping_4"
     ],
     "language": "python",
     "metadata": {},
     "outputs": [
      {
       "output_type": "stream",
       "stream": "stdout",
       "text": [
        "[3868, 4174, 3697, 3261]\n"
       ]
      }
     ],
     "prompt_number": 20
    },
    {
     "cell_type": "code",
     "collapsed": false,
     "input": [
      "k_means_5 = cluster.KMeans(5)\n",
      "k_means_5.fit(H)\n",
      "print k_means_5.cluster_centers_"
     ],
     "language": "python",
     "metadata": {},
     "outputs": [
      {
       "output_type": "stream",
       "stream": "stdout",
       "text": [
        "[[ -1.78971096 -20.49661376 -68.83360168 -36.55086293]\n",
        " [ -0.56064174  48.34152968 -23.35109797  92.53411098]\n",
        " [-85.76600047  11.30813085  -6.32436828 -63.96855326]\n",
        " [ 80.5202782   11.45732905  -2.25810182 -57.0397841 ]\n",
        " [ -0.5297544   80.58158822 -24.56290212 -40.73734688]]\n"
       ]
      }
     ],
     "prompt_number": 4
    },
    {
     "cell_type": "code",
     "collapsed": false,
     "input": [
      "grouping_5 = [0, 0, 0, 0, 0]\n",
      "for i in range(15000):\n",
      "    grouping_5[ k_means_5.predict(H[i])[0] ] = grouping_5[ k_means_5.predict(H[i])[0] ] + 1\n",
      "print grouping_5"
     ],
     "language": "python",
     "metadata": {},
     "outputs": [
      {
       "output_type": "stream",
       "stream": "stdout",
       "text": [
        "[2694, 3426, 2556, 2500, 3824]\n"
       ]
      }
     ],
     "prompt_number": 22
    },
    {
     "cell_type": "code",
     "collapsed": false,
     "input": [
      "#Actual class means\n",
      "class1Mean = np.mean( H[0:5000 , 0:4], axis=0)\n",
      "print class1Mean\n",
      "\n",
      "class2Mean = np.mean( H[5000:10000 , 0:4], axis=0)\n",
      "print class2Mean\n",
      "\n",
      "class3Mean = np.mean( H[10000:15000 , 0:4], axis=0)\n",
      "print class3Mean"
     ],
     "language": "python",
     "metadata": {},
     "outputs": [
      {
       "output_type": "stream",
       "stream": "stdout",
       "text": [
        "[  0.54656947  50.09870688 -24.68636838 -49.62397174]\n",
        "[ -0.08688823  49.76324894 -25.24143728  50.54650893]\n",
        "[ -5.89344376  -4.59845856 -26.34971881 -49.37342168]\n"
       ]
      }
     ],
     "prompt_number": 14
    },
    {
     "cell_type": "code",
     "collapsed": false,
     "input": [],
     "language": "python",
     "metadata": {},
     "outputs": []
    }
   ],
   "metadata": {}
  }
 ]
}