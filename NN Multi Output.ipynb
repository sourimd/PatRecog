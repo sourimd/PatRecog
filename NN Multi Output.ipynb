{
 "metadata": {
  "name": "",
  "signature": "sha256:1f2ebb57eaf8e941d0f86b96970da78c0ebd8dc1d550354615b835c0cffba92e"
 },
 "nbformat": 3,
 "nbformat_minor": 0,
 "worksheets": [
  {
   "cells": [
    {
     "cell_type": "code",
     "collapsed": false,
     "input": [
      "import numpy as np\n",
      "import neurolab as nl\n",
      "\n",
      "H = np.loadtxt('/home/user/PRTakeHome1/train_sp2015_v14')"
     ],
     "language": "python",
     "metadata": {},
     "outputs": [],
     "prompt_number": 1
    },
    {
     "cell_type": "code",
     "collapsed": false,
     "input": [
      "target1 = []\n",
      "for i in range(5000):\n",
      "    target1.append(1)\n",
      "for i in range(5000):\n",
      "    target1.append(-1)\n",
      "for i in range(5000):\n",
      "    target1.append(-1)   \n",
      "    \n",
      "tar1 = np.array( target1 )\n",
      "#np.reshape( tar, (10000, 1))\n",
      "#print tar.shape\n",
      "bal1 = np.asmatrix(tar1)\n",
      "print bal1.T"
     ],
     "language": "python",
     "metadata": {},
     "outputs": [
      {
       "output_type": "stream",
       "stream": "stdout",
       "text": [
        "[[ 1]\n",
        " [ 1]\n",
        " [ 1]\n",
        " ..., \n",
        " [-1]\n",
        " [-1]\n",
        " [-1]]\n"
       ]
      }
     ],
     "prompt_number": 2
    },
    {
     "cell_type": "code",
     "collapsed": false,
     "input": [
      "_1min, _2min, _3min, _4min = H.min(axis=0)\n",
      "_1max, _2max, _3max, _4max = H.max(axis=0)"
     ],
     "language": "python",
     "metadata": {},
     "outputs": [],
     "prompt_number": 3
    },
    {
     "cell_type": "code",
     "collapsed": false,
     "input": [
      "net1 = nl.net.newff( [ [_1min, _1max], [_2min, _2max], [_3min, _3max], [_4min, _4max] ] , [9, 1])\n",
      "#net1.trainf = nl.train.train_gda\n",
      "#net.trainf = nl.train.train_bfgs\n",
      "err1 = net1.train( H, bal1.T, epochs = 300, show = 60, goal = 0.2)\n",
      "#print net.co\n",
      "#net1 = nl.train.train_gda( H, bal1.T, epochs = 100, show = 20, goal = 0.2)"
     ],
     "language": "python",
     "metadata": {},
     "outputs": [
      {
       "output_type": "stream",
       "stream": "stdout",
       "text": [
        "Epoch: 60; Error: 3477.78750438;\n",
        "Epoch: 120; Error: 3340.69312307;"
       ]
      },
      {
       "output_type": "stream",
       "stream": "stdout",
       "text": [
        "\n",
        "Epoch: 180; Error: 3326.43730034;"
       ]
      },
      {
       "output_type": "stream",
       "stream": "stdout",
       "text": [
        "\n",
        "Epoch: 240; Error: 3322.86889177;"
       ]
      },
      {
       "output_type": "stream",
       "stream": "stdout",
       "text": [
        "\n",
        "Epoch: 300; Error: 3321.86156151;"
       ]
      },
      {
       "output_type": "stream",
       "stream": "stdout",
       "text": [
        "\n",
        "The maximum number of train epochs is reached\n"
       ]
      }
     ],
     "prompt_number": 4
    },
    {
     "cell_type": "code",
     "collapsed": false,
     "input": [
      "newErrList1 = [x/100 for x in err1]\n",
      "import pylab as pl\n",
      "pl.plot(newErrList1)\n",
      "pl.xlabel('Number of iterations')\n",
      "pl.ylabel('Error Rate in %')\n",
      "pl.show()"
     ],
     "language": "python",
     "metadata": {},
     "outputs": [],
     "prompt_number": 6
    },
    {
     "cell_type": "code",
     "collapsed": false,
     "input": [
      "for i in range(9):\n",
      "    print net1.layers[0].np['w'][i]\n",
      "print net1.layers[1].np['w'][0]"
     ],
     "language": "python",
     "metadata": {},
     "outputs": [
      {
       "output_type": "stream",
       "stream": "stdout",
       "text": [
        "[-0.03953128  1.13293587 -3.63581509  0.74335857]\n",
        "[-0.09484411 -0.00424504  0.00274509 -0.00396137]\n",
        "[ 0.00284348 -0.00322799  0.02996712 -0.00149334]\n",
        "[ 0.13113015 -0.00216339 -0.00097579 -0.00354836]\n",
        "[-0.00148672  0.00174336  0.01017961  0.00176397]\n",
        "[-0.00457802  0.00019776 -0.02112526  0.0006734 ]\n",
        "[-0.2848224   0.19388398  0.49972138 -0.11556082]\n",
        "[-0.04954371  0.15631313 -1.7534734   0.73254997]\n",
        "[-0.00133291 -0.0007941  -0.0027326   0.00065304]\n",
        "[ 0.12401386  1.78308997 -2.76684916  1.7228235   4.42045205  1.61122053\n",
        " -0.03728444 -0.17146642 -8.20053056]\n"
       ]
      }
     ],
     "prompt_number": 7
    },
    {
     "cell_type": "code",
     "collapsed": false,
     "input": [
      "OneAsComputed = 0\n",
      "NotOneAsComputed = 0\n",
      "for i in range(0, 5000):\n",
      "    a = net1.sim([ H[i]])[0][0]\n",
      "    if a > 0:\n",
      "        OneAsComputed = OneAsComputed + 1\n",
      "    else:\n",
      "        NotOneAsComputed = NotOneAsComputed + 1\n",
      "print OneAsComputed\n",
      "print NotOneAsComputed"
     ],
     "language": "python",
     "metadata": {},
     "outputs": [
      {
       "output_type": "stream",
       "stream": "stdout",
       "text": [
        "3821\n",
        "1179\n"
       ]
      }
     ],
     "prompt_number": 8
    },
    {
     "cell_type": "code",
     "collapsed": false,
     "input": [
      "target2 = []\n",
      "for i in range(5000):\n",
      "    target2.append(-1)\n",
      "for i in range(5000):\n",
      "    target2.append(1)\n",
      "for i in range(5000):\n",
      "    target2.append(-1)   \n",
      "    \n",
      "tar2 = np.array( target2 )\n",
      "#np.reshape( tar, (10000, 1))\n",
      "#print tar.shape\n",
      "bal2 = np.asmatrix(tar2)\n",
      "print bal2.T"
     ],
     "language": "python",
     "metadata": {},
     "outputs": [
      {
       "output_type": "stream",
       "stream": "stdout",
       "text": [
        "[[-1]\n",
        " [-1]\n",
        " [-1]\n",
        " ..., \n",
        " [-1]\n",
        " [-1]\n",
        " [-1]]\n"
       ]
      }
     ],
     "prompt_number": 9
    },
    {
     "cell_type": "code",
     "collapsed": false,
     "input": [
      "net2 = nl.net.newff( [ [_1min, _1max], [_2min, _2max], [_3min, _3max], [_4min, _4max] ] , [9, 1])\n",
      "#net2.trainf = nl.train.train_gda\n",
      "err2 = net2.train( H, bal2.T, epochs = 300, show = 60, goal = 0.2)\n",
      "#print net.co"
     ],
     "language": "python",
     "metadata": {},
     "outputs": [
      {
       "output_type": "stream",
       "stream": "stdout",
       "text": [
        "Epoch: 60; Error: 3094.61855544;\n",
        "Epoch: 120; Error: 2235.89206216;"
       ]
      },
      {
       "output_type": "stream",
       "stream": "stdout",
       "text": [
        "\n",
        "Epoch: 180; Error: 2010.86324611;"
       ]
      },
      {
       "output_type": "stream",
       "stream": "stdout",
       "text": [
        "\n",
        "Epoch: 240; Error: 1995.87849577;"
       ]
      },
      {
       "output_type": "stream",
       "stream": "stdout",
       "text": [
        "\n",
        "Epoch: 300; Error: 1963.792684;"
       ]
      },
      {
       "output_type": "stream",
       "stream": "stdout",
       "text": [
        "\n",
        "The maximum number of train epochs is reached\n"
       ]
      }
     ],
     "prompt_number": 10
    },
    {
     "cell_type": "code",
     "collapsed": false,
     "input": [
      "newErrList2 = [x/100 for x in err2]\n",
      "import pylab as pl\n",
      "pl.plot(newErrList1)\n",
      "pl.xlabel('Number of iterations')\n",
      "pl.ylabel('Error Rate in %')\n",
      "pl.show()"
     ],
     "language": "python",
     "metadata": {},
     "outputs": [],
     "prompt_number": 11
    },
    {
     "cell_type": "code",
     "collapsed": false,
     "input": [
      "for i in range(9):\n",
      "    print net2.layers[0].np['w'][i]\n",
      "print net2.layers[1].np['w'][0]"
     ],
     "language": "python",
     "metadata": {},
     "outputs": [
      {
       "output_type": "stream",
       "stream": "stdout",
       "text": [
        "[-2.1623276  -0.72376855  1.71911329  1.80364081]\n",
        "[ 2.31322301 -0.3789228   7.34487575 -5.07393229]\n",
        "[-11.70455276  -1.17759013   1.19984211   0.1664674 ]\n",
        "[ -3.81793352   3.46258856  11.35382689  34.64925525]\n",
        "[  0.5841481    9.19288888 -11.61085788  -7.65717785]\n",
        "[ 3.14266465  0.06923941  0.19574188  0.14408517]\n",
        "[-1.41784905 -1.73844842  2.77449413  5.21701551]\n",
        "[ 3.89352961  1.00363615 -1.40127279  1.22771263]\n",
        "[-2.42189287  0.05316754  0.14090691  0.07585365]\n",
        "[ 3.63248053 -3.83640096 -3.53448664  0.21754887 -0.13504524  1.1211335\n",
        " -0.2463538   0.49199997  2.2603195 ]\n"
       ]
      }
     ],
     "prompt_number": 12
    },
    {
     "cell_type": "code",
     "collapsed": false,
     "input": [
      "TwoAsComputed = 0\n",
      "NotTwoAsComputed = 0\n",
      "for i in range(5000, 10000):\n",
      "    a = net2.sim([ H[i]])[0][0]\n",
      "    if a > 0:\n",
      "        TwoAsComputed = TwoAsComputed + 1\n",
      "    else:\n",
      "        NotTwoAsComputed = NotTwoAsComputed + 1\n",
      "print TwoAsComputed\n",
      "print NotTwoAsComputed"
     ],
     "language": "python",
     "metadata": {},
     "outputs": [
      {
       "output_type": "stream",
       "stream": "stdout",
       "text": [
        "4361\n",
        "639\n"
       ]
      }
     ],
     "prompt_number": 13
    },
    {
     "cell_type": "code",
     "collapsed": false,
     "input": [
      "target3 = []\n",
      "for i in range(5000):\n",
      "    target3.append(-1)\n",
      "for i in range(5000):\n",
      "    target3.append(-1)\n",
      "for i in range(5000):\n",
      "    target3.append(1)   \n",
      "    \n",
      "tar3 = np.array( target3 )\n",
      "#np.reshape( tar, (10000, 1))\n",
      "#print tar.shape\n",
      "bal3 = np.asmatrix(tar3)\n",
      "print bal3.T"
     ],
     "language": "python",
     "metadata": {},
     "outputs": [
      {
       "output_type": "stream",
       "stream": "stdout",
       "text": [
        "[[-1]\n",
        " [-1]\n",
        " [-1]\n",
        " ..., \n",
        " [ 1]\n",
        " [ 1]\n",
        " [ 1]]\n"
       ]
      }
     ],
     "prompt_number": 14
    },
    {
     "cell_type": "code",
     "collapsed": false,
     "input": [
      "net3 = nl.net.newff( [ [_1min, _1max], [_2min, _2max], [_3min, _3max], [_4min, _4max] ] , [9, 1])\n",
      "#net.trainf = nl.train.train_bfgs\n",
      "err3 = net3.train( H, bal3.T, epochs = 300, show = 60, goal = 0.2)\n",
      "#print net.co"
     ],
     "language": "python",
     "metadata": {},
     "outputs": [
      {
       "output_type": "stream",
       "stream": "stdout",
       "text": [
        "Epoch: 60; Error: 3597.64226895;\n",
        "Epoch: 120; Error: 3473.13749582;"
       ]
      },
      {
       "output_type": "stream",
       "stream": "stdout",
       "text": [
        "\n",
        "Epoch: 180; Error: 3218.72363244;"
       ]
      },
      {
       "output_type": "stream",
       "stream": "stdout",
       "text": [
        "\n",
        "Epoch: 240; Error: 3179.50745778;"
       ]
      },
      {
       "output_type": "stream",
       "stream": "stdout",
       "text": [
        "\n",
        "Epoch: 300; Error: 3175.60018452;"
       ]
      },
      {
       "output_type": "stream",
       "stream": "stdout",
       "text": [
        "\n",
        "The maximum number of train epochs is reached\n"
       ]
      }
     ],
     "prompt_number": 15
    },
    {
     "cell_type": "code",
     "collapsed": false,
     "input": [
      "newErrList3 = [x/100 for x in err3]\n",
      "import pylab as pl\n",
      "pl.plot(newErrList1)\n",
      "pl.xlabel('Number of iterations')\n",
      "pl.ylabel('Error Rate in %')\n",
      "pl.show()"
     ],
     "language": "python",
     "metadata": {},
     "outputs": [],
     "prompt_number": 16
    },
    {
     "cell_type": "code",
     "collapsed": false,
     "input": [
      "for i in range(9):\n",
      "    print net3.layers[0].np['w'][i]\n",
      "print net3.layers[1].np['w'][0]"
     ],
     "language": "python",
     "metadata": {},
     "outputs": [
      {
       "output_type": "stream",
       "stream": "stdout",
       "text": [
        "[ -1.44931324  10.55116966   4.24122265   2.06724187]\n",
        "[-0.20487574 -0.25696062  0.27322951  1.7943912 ]\n",
        "[ -8.04559955 -23.8832319   18.3277432    5.63552455]\n",
        "[-0.0003006   0.00174483  0.01066396  0.00052508]\n",
        "[-22.77293942 -58.60225093  16.98244165 -23.50935064]\n",
        "[ 0.08848069  2.52344063 -0.9353845   0.67601323]\n",
        "[-4.43836183 -1.33069967  1.74158357 -1.5704893 ]\n",
        "[ -2.70996587 -12.20681973   1.22647137  -5.28090472]\n",
        "[ -1.73755960e-05  -2.07967555e-03   1.04738399e-02  -1.65916633e-04]\n",
        "[-0.04148969 -0.29494279  0.04999261 -4.52874282 -0.11294745  0.02571685\n",
        "  0.15321096  0.09637313  4.90255399]\n"
       ]
      }
     ],
     "prompt_number": 17
    },
    {
     "cell_type": "code",
     "collapsed": false,
     "input": [
      "ThreeAsComputed = 0\n",
      "NotThreeAsComputed = 0\n",
      "for i in range(10000, 15000):\n",
      "    a = net3.sim([ H[i]])[0][0]\n",
      "    if a > 0:\n",
      "        ThreeAsComputed = ThreeAsComputed + 1\n",
      "    else:\n",
      "        NotThreeAsComputed = NotThreeAsComputed + 1\n",
      "print ThreeAsComputed\n",
      "print NotThreeAsComputed"
     ],
     "language": "python",
     "metadata": {},
     "outputs": [
      {
       "output_type": "stream",
       "stream": "stdout",
       "text": [
        "3444\n",
        "1556\n"
       ]
      }
     ],
     "prompt_number": 18
    },
    {
     "cell_type": "code",
     "collapsed": false,
     "input": [
      "def findMaxInReturn(a, b, c):\n",
      "    if a > b and a > c:\n",
      "        return 1\n",
      "    elif b > a and b > c:\n",
      "        return 2\n",
      "    else:\n",
      "        return 3"
     ],
     "language": "python",
     "metadata": {},
     "outputs": [],
     "prompt_number": 19
    },
    {
     "cell_type": "code",
     "collapsed": false,
     "input": [
      "St= np.loadtxt('/home/user/PRTakeHome1/test_sp2015_v14')"
     ],
     "language": "python",
     "metadata": {},
     "outputs": [],
     "prompt_number": 20
    },
    {
     "cell_type": "code",
     "collapsed": false,
     "input": [
      "# With test data\n",
      "arr = [2,3,1,3,1,2]\n",
      "err = 0\n",
      "cof_mat = np.zeros((3,3))\n",
      "for i in range(15000):\n",
      "    retrievedRes = findMaxInReturn( net1.sim([ St[i]])[0][0] , net2.sim([ St[i]])[0][0], net3.sim([ St[i]])[0][0] )\n",
      "    if(  retrievedRes != arr[i%6]):\n",
      "        err = err + 1\n",
      "    cof_mat[arr[i%6]-1][retrievedRes-1] = cof_mat[arr[i%6]-1][retrievedRes-1] + 1\n",
      "print err\n",
      "print cof_mat"
     ],
     "language": "python",
     "metadata": {},
     "outputs": [
      {
       "output_type": "stream",
       "stream": "stdout",
       "text": [
        "3159\n",
        "[[ 4043.   310.   647.]\n",
        " [  441.  4269.   290.]\n",
        " [ 1329.   142.  3529.]]\n"
       ]
      }
     ],
     "prompt_number": 21
    },
    {
     "cell_type": "code",
     "collapsed": false,
     "input": [
      "cof_mat = np.zeros((3,3))\n",
      "for i in range(15000):\n",
      "    retrievedRes = findMaxInReturn( net1.sim([ H[i]])[0][0] , net2.sim([ H[i]])[0][0], net3.sim([ H[i]])[0][0] )\n",
      "    cof_mat[i//5000][retrievedRes-1] = cof_mat[i//5000][retrievedRes-1] + 1\n",
      "print cof_mat"
     ],
     "language": "python",
     "metadata": {},
     "outputs": [
      {
       "output_type": "stream",
       "stream": "stdout",
       "text": [
        "[[ 4094.   281.   625.]\n",
        " [  381.  4357.   262.]\n",
        " [ 1286.   115.  3599.]]\n"
       ]
      }
     ],
     "prompt_number": 22
    }
   ],
   "metadata": {}
  }
 ]
}